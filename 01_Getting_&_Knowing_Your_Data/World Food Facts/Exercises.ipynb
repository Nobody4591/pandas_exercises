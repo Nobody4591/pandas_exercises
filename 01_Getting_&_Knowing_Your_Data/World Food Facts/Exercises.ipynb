{
 "cells": [
  {
   "cell_type": "markdown",
   "source": [
    "# Exercise 1"
   ],
   "metadata": {}
  },
  {
   "cell_type": "markdown",
   "source": [
    "### Step 1. Go to https://www.kaggle.com/openfoodfacts/world-food-facts/data"
   ],
   "metadata": {}
  },
  {
   "cell_type": "markdown",
   "source": [
    "### Step 2. Download the dataset to your computer and unzip it."
   ],
   "metadata": {}
  },
  {
   "cell_type": "markdown",
   "source": [
    "### Step 3. Use the tsv file and assign it to a dataframe called food"
   ],
   "metadata": {}
  },
  {
   "cell_type": "code",
   "execution_count": 3,
   "source": [
    "import pandas as pd\n",
    "food=pd.read_csv(\"~/Downloads/en.openfoodfacts.org.products.tsv\",sep='\\t')\n"
   ],
   "outputs": [
    {
     "output_type": "stream",
     "name": "stderr",
     "text": [
      "/Library/Frameworks/Python.framework/Versions/3.9/lib/python3.9/site-packages/IPython/core/interactiveshell.py:3441: DtypeWarning: Columns (0,3,5,19,20,24,25,26,27,28,36,37,38,39,48) have mixed types.Specify dtype option on import or set low_memory=False.\n",
      "  exec(code_obj, self.user_global_ns, self.user_ns)\n"
     ]
    }
   ],
   "metadata": {
    "collapsed": true
   }
  },
  {
   "cell_type": "markdown",
   "source": [
    "### Step 4. See the first 5 entries"
   ],
   "metadata": {}
  },
  {
   "cell_type": "code",
   "execution_count": 4,
   "source": [
    "food"
   ],
   "outputs": [
    {
     "output_type": "execute_result",
     "data": {
      "text/plain": [
       "                 code                                                url  \\\n",
       "0                3087  http://world-en.openfoodfacts.org/product/0000...   \n",
       "1                4530  http://world-en.openfoodfacts.org/product/0000...   \n",
       "2                4559  http://world-en.openfoodfacts.org/product/0000...   \n",
       "3               16087  http://world-en.openfoodfacts.org/product/0000...   \n",
       "4               16094  http://world-en.openfoodfacts.org/product/0000...   \n",
       "...               ...                                                ...   \n",
       "356022       99567453  http://world-en.openfoodfacts.org/product/9956...   \n",
       "356023  9970229501521  http://world-en.openfoodfacts.org/product/9970...   \n",
       "356024  9977471758307  http://world-en.openfoodfacts.org/product/9977...   \n",
       "356025  9980282863788  http://world-en.openfoodfacts.org/product/9980...   \n",
       "356026   999990026839  http://world-en.openfoodfacts.org/product/9999...   \n",
       "\n",
       "                           creator   created_t      created_datetime  \\\n",
       "0       openfoodfacts-contributors  1474103866  2016-09-17T09:17:46Z   \n",
       "1                  usda-ndb-import  1489069957  2017-03-09T14:32:37Z   \n",
       "2                  usda-ndb-import  1489069957  2017-03-09T14:32:37Z   \n",
       "3                  usda-ndb-import  1489055731  2017-03-09T10:35:31Z   \n",
       "4                  usda-ndb-import  1489055653  2017-03-09T10:34:13Z   \n",
       "...                            ...         ...                   ...   \n",
       "356022             usda-ndb-import  1489059076  2017-03-09T11:31:16Z   \n",
       "356023                      tomato  1422099377  2015-01-24T11:36:17Z   \n",
       "356024  openfoodfacts-contributors  1497018549  2017-06-09T14:29:09Z   \n",
       "356025  openfoodfacts-contributors  1492340089  2017-04-16T10:54:49Z   \n",
       "356026             usda-ndb-import  1489072709  2017-03-09T15:18:29Z   \n",
       "\n",
       "       last_modified_t last_modified_datetime  \\\n",
       "0           1474103893   2016-09-17T09:18:13Z   \n",
       "1           1489069957   2017-03-09T14:32:37Z   \n",
       "2           1489069957   2017-03-09T14:32:37Z   \n",
       "3           1489055731   2017-03-09T10:35:31Z   \n",
       "4           1489055653   2017-03-09T10:34:13Z   \n",
       "...                ...                    ...   \n",
       "356022      1491244499   2017-04-03T18:34:59Z   \n",
       "356023      1491244499   2017-04-03T18:34:59Z   \n",
       "356024      1500730305   2017-07-22T13:31:45Z   \n",
       "356025      1492340089   2017-04-16T10:54:49Z   \n",
       "356026      1491244499   2017-04-03T18:34:59Z   \n",
       "\n",
       "                                             product_name  \\\n",
       "0                                      Farine de blé noir   \n",
       "1                          Banana Chips Sweetened (Whole)   \n",
       "2                                                 Peanuts   \n",
       "3                                  Organic Salted Nut Mix   \n",
       "4                                         Organic Polenta   \n",
       "...                                                   ...   \n",
       "356022  Mint Melange Tea A Blend Of Peppermint, Lemon ...   \n",
       "356023                                            乐吧泡菜味薯片   \n",
       "356024                                      Biscottes bio   \n",
       "356025                           Tomates aux Vermicelles    \n",
       "356026                    Sugar Free Drink Mix, Peach Tea   \n",
       "\n",
       "                           generic_name quantity  ...  \\\n",
       "0                                   NaN      1kg  ...   \n",
       "1                                   NaN      NaN  ...   \n",
       "2                                   NaN      NaN  ...   \n",
       "3                                   NaN      NaN  ...   \n",
       "4                                   NaN      NaN  ...   \n",
       "...                                 ...      ...  ...   \n",
       "356022                              NaN      NaN  ...   \n",
       "356023  Leba pickle flavor potato chips     50 g  ...   \n",
       "356024                              NaN     300g  ...   \n",
       "356025                              NaN      67g  ...   \n",
       "356026                              NaN      NaN  ...   \n",
       "\n",
       "       fruits-vegetables-nuts_100g fruits-vegetables-nuts-estimate_100g  \\\n",
       "0                              NaN                                  NaN   \n",
       "1                              NaN                                  NaN   \n",
       "2                              NaN                                  NaN   \n",
       "3                              NaN                                  NaN   \n",
       "4                              NaN                                  NaN   \n",
       "...                            ...                                  ...   \n",
       "356022                         NaN                                  NaN   \n",
       "356023                         NaN                                  NaN   \n",
       "356024                         NaN                                  NaN   \n",
       "356025                         NaN                                  NaN   \n",
       "356026                         NaN                                  NaN   \n",
       "\n",
       "       collagen-meat-protein-ratio_100g cocoa_100g chlorophyl_100g  \\\n",
       "0                                   NaN        NaN             NaN   \n",
       "1                                   NaN        NaN             NaN   \n",
       "2                                   NaN        NaN             NaN   \n",
       "3                                   NaN        NaN             NaN   \n",
       "4                                   NaN        NaN             NaN   \n",
       "...                                 ...        ...             ...   \n",
       "356022                              NaN        NaN             NaN   \n",
       "356023                              NaN        NaN             NaN   \n",
       "356024                              NaN        NaN             NaN   \n",
       "356025                              NaN        NaN             NaN   \n",
       "356026                              NaN        NaN             NaN   \n",
       "\n",
       "       carbon-footprint_100g nutrition-score-fr_100g nutrition-score-uk_100g  \\\n",
       "0                        NaN                     NaN                     NaN   \n",
       "1                        NaN                    14.0                    14.0   \n",
       "2                        NaN                     0.0                     0.0   \n",
       "3                        NaN                    12.0                    12.0   \n",
       "4                        NaN                     NaN                     NaN   \n",
       "...                      ...                     ...                     ...   \n",
       "356022                   NaN                     0.0                     0.0   \n",
       "356023                   NaN                     NaN                     NaN   \n",
       "356024                   NaN                     NaN                     NaN   \n",
       "356025                   NaN                     NaN                     NaN   \n",
       "356026                   NaN                     NaN                     NaN   \n",
       "\n",
       "       glycemic-index_100g water-hardness_100g  \n",
       "0                      NaN                 NaN  \n",
       "1                      NaN                 NaN  \n",
       "2                      NaN                 NaN  \n",
       "3                      NaN                 NaN  \n",
       "4                      NaN                 NaN  \n",
       "...                    ...                 ...  \n",
       "356022                 NaN                 NaN  \n",
       "356023                 NaN                 NaN  \n",
       "356024                 NaN                 NaN  \n",
       "356025                 NaN                 NaN  \n",
       "356026                 NaN                 NaN  \n",
       "\n",
       "[356027 rows x 163 columns]"
      ],
      "text/html": [
       "<div>\n",
       "<style scoped>\n",
       "    .dataframe tbody tr th:only-of-type {\n",
       "        vertical-align: middle;\n",
       "    }\n",
       "\n",
       "    .dataframe tbody tr th {\n",
       "        vertical-align: top;\n",
       "    }\n",
       "\n",
       "    .dataframe thead th {\n",
       "        text-align: right;\n",
       "    }\n",
       "</style>\n",
       "<table border=\"1\" class=\"dataframe\">\n",
       "  <thead>\n",
       "    <tr style=\"text-align: right;\">\n",
       "      <th></th>\n",
       "      <th>code</th>\n",
       "      <th>url</th>\n",
       "      <th>creator</th>\n",
       "      <th>created_t</th>\n",
       "      <th>created_datetime</th>\n",
       "      <th>last_modified_t</th>\n",
       "      <th>last_modified_datetime</th>\n",
       "      <th>product_name</th>\n",
       "      <th>generic_name</th>\n",
       "      <th>quantity</th>\n",
       "      <th>...</th>\n",
       "      <th>fruits-vegetables-nuts_100g</th>\n",
       "      <th>fruits-vegetables-nuts-estimate_100g</th>\n",
       "      <th>collagen-meat-protein-ratio_100g</th>\n",
       "      <th>cocoa_100g</th>\n",
       "      <th>chlorophyl_100g</th>\n",
       "      <th>carbon-footprint_100g</th>\n",
       "      <th>nutrition-score-fr_100g</th>\n",
       "      <th>nutrition-score-uk_100g</th>\n",
       "      <th>glycemic-index_100g</th>\n",
       "      <th>water-hardness_100g</th>\n",
       "    </tr>\n",
       "  </thead>\n",
       "  <tbody>\n",
       "    <tr>\n",
       "      <th>0</th>\n",
       "      <td>3087</td>\n",
       "      <td>http://world-en.openfoodfacts.org/product/0000...</td>\n",
       "      <td>openfoodfacts-contributors</td>\n",
       "      <td>1474103866</td>\n",
       "      <td>2016-09-17T09:17:46Z</td>\n",
       "      <td>1474103893</td>\n",
       "      <td>2016-09-17T09:18:13Z</td>\n",
       "      <td>Farine de blé noir</td>\n",
       "      <td>NaN</td>\n",
       "      <td>1kg</td>\n",
       "      <td>...</td>\n",
       "      <td>NaN</td>\n",
       "      <td>NaN</td>\n",
       "      <td>NaN</td>\n",
       "      <td>NaN</td>\n",
       "      <td>NaN</td>\n",
       "      <td>NaN</td>\n",
       "      <td>NaN</td>\n",
       "      <td>NaN</td>\n",
       "      <td>NaN</td>\n",
       "      <td>NaN</td>\n",
       "    </tr>\n",
       "    <tr>\n",
       "      <th>1</th>\n",
       "      <td>4530</td>\n",
       "      <td>http://world-en.openfoodfacts.org/product/0000...</td>\n",
       "      <td>usda-ndb-import</td>\n",
       "      <td>1489069957</td>\n",
       "      <td>2017-03-09T14:32:37Z</td>\n",
       "      <td>1489069957</td>\n",
       "      <td>2017-03-09T14:32:37Z</td>\n",
       "      <td>Banana Chips Sweetened (Whole)</td>\n",
       "      <td>NaN</td>\n",
       "      <td>NaN</td>\n",
       "      <td>...</td>\n",
       "      <td>NaN</td>\n",
       "      <td>NaN</td>\n",
       "      <td>NaN</td>\n",
       "      <td>NaN</td>\n",
       "      <td>NaN</td>\n",
       "      <td>NaN</td>\n",
       "      <td>14.0</td>\n",
       "      <td>14.0</td>\n",
       "      <td>NaN</td>\n",
       "      <td>NaN</td>\n",
       "    </tr>\n",
       "    <tr>\n",
       "      <th>2</th>\n",
       "      <td>4559</td>\n",
       "      <td>http://world-en.openfoodfacts.org/product/0000...</td>\n",
       "      <td>usda-ndb-import</td>\n",
       "      <td>1489069957</td>\n",
       "      <td>2017-03-09T14:32:37Z</td>\n",
       "      <td>1489069957</td>\n",
       "      <td>2017-03-09T14:32:37Z</td>\n",
       "      <td>Peanuts</td>\n",
       "      <td>NaN</td>\n",
       "      <td>NaN</td>\n",
       "      <td>...</td>\n",
       "      <td>NaN</td>\n",
       "      <td>NaN</td>\n",
       "      <td>NaN</td>\n",
       "      <td>NaN</td>\n",
       "      <td>NaN</td>\n",
       "      <td>NaN</td>\n",
       "      <td>0.0</td>\n",
       "      <td>0.0</td>\n",
       "      <td>NaN</td>\n",
       "      <td>NaN</td>\n",
       "    </tr>\n",
       "    <tr>\n",
       "      <th>3</th>\n",
       "      <td>16087</td>\n",
       "      <td>http://world-en.openfoodfacts.org/product/0000...</td>\n",
       "      <td>usda-ndb-import</td>\n",
       "      <td>1489055731</td>\n",
       "      <td>2017-03-09T10:35:31Z</td>\n",
       "      <td>1489055731</td>\n",
       "      <td>2017-03-09T10:35:31Z</td>\n",
       "      <td>Organic Salted Nut Mix</td>\n",
       "      <td>NaN</td>\n",
       "      <td>NaN</td>\n",
       "      <td>...</td>\n",
       "      <td>NaN</td>\n",
       "      <td>NaN</td>\n",
       "      <td>NaN</td>\n",
       "      <td>NaN</td>\n",
       "      <td>NaN</td>\n",
       "      <td>NaN</td>\n",
       "      <td>12.0</td>\n",
       "      <td>12.0</td>\n",
       "      <td>NaN</td>\n",
       "      <td>NaN</td>\n",
       "    </tr>\n",
       "    <tr>\n",
       "      <th>4</th>\n",
       "      <td>16094</td>\n",
       "      <td>http://world-en.openfoodfacts.org/product/0000...</td>\n",
       "      <td>usda-ndb-import</td>\n",
       "      <td>1489055653</td>\n",
       "      <td>2017-03-09T10:34:13Z</td>\n",
       "      <td>1489055653</td>\n",
       "      <td>2017-03-09T10:34:13Z</td>\n",
       "      <td>Organic Polenta</td>\n",
       "      <td>NaN</td>\n",
       "      <td>NaN</td>\n",
       "      <td>...</td>\n",
       "      <td>NaN</td>\n",
       "      <td>NaN</td>\n",
       "      <td>NaN</td>\n",
       "      <td>NaN</td>\n",
       "      <td>NaN</td>\n",
       "      <td>NaN</td>\n",
       "      <td>NaN</td>\n",
       "      <td>NaN</td>\n",
       "      <td>NaN</td>\n",
       "      <td>NaN</td>\n",
       "    </tr>\n",
       "    <tr>\n",
       "      <th>...</th>\n",
       "      <td>...</td>\n",
       "      <td>...</td>\n",
       "      <td>...</td>\n",
       "      <td>...</td>\n",
       "      <td>...</td>\n",
       "      <td>...</td>\n",
       "      <td>...</td>\n",
       "      <td>...</td>\n",
       "      <td>...</td>\n",
       "      <td>...</td>\n",
       "      <td>...</td>\n",
       "      <td>...</td>\n",
       "      <td>...</td>\n",
       "      <td>...</td>\n",
       "      <td>...</td>\n",
       "      <td>...</td>\n",
       "      <td>...</td>\n",
       "      <td>...</td>\n",
       "      <td>...</td>\n",
       "      <td>...</td>\n",
       "      <td>...</td>\n",
       "    </tr>\n",
       "    <tr>\n",
       "      <th>356022</th>\n",
       "      <td>99567453</td>\n",
       "      <td>http://world-en.openfoodfacts.org/product/9956...</td>\n",
       "      <td>usda-ndb-import</td>\n",
       "      <td>1489059076</td>\n",
       "      <td>2017-03-09T11:31:16Z</td>\n",
       "      <td>1491244499</td>\n",
       "      <td>2017-04-03T18:34:59Z</td>\n",
       "      <td>Mint Melange Tea A Blend Of Peppermint, Lemon ...</td>\n",
       "      <td>NaN</td>\n",
       "      <td>NaN</td>\n",
       "      <td>...</td>\n",
       "      <td>NaN</td>\n",
       "      <td>NaN</td>\n",
       "      <td>NaN</td>\n",
       "      <td>NaN</td>\n",
       "      <td>NaN</td>\n",
       "      <td>NaN</td>\n",
       "      <td>0.0</td>\n",
       "      <td>0.0</td>\n",
       "      <td>NaN</td>\n",
       "      <td>NaN</td>\n",
       "    </tr>\n",
       "    <tr>\n",
       "      <th>356023</th>\n",
       "      <td>9970229501521</td>\n",
       "      <td>http://world-en.openfoodfacts.org/product/9970...</td>\n",
       "      <td>tomato</td>\n",
       "      <td>1422099377</td>\n",
       "      <td>2015-01-24T11:36:17Z</td>\n",
       "      <td>1491244499</td>\n",
       "      <td>2017-04-03T18:34:59Z</td>\n",
       "      <td>乐吧泡菜味薯片</td>\n",
       "      <td>Leba pickle flavor potato chips</td>\n",
       "      <td>50 g</td>\n",
       "      <td>...</td>\n",
       "      <td>NaN</td>\n",
       "      <td>NaN</td>\n",
       "      <td>NaN</td>\n",
       "      <td>NaN</td>\n",
       "      <td>NaN</td>\n",
       "      <td>NaN</td>\n",
       "      <td>NaN</td>\n",
       "      <td>NaN</td>\n",
       "      <td>NaN</td>\n",
       "      <td>NaN</td>\n",
       "    </tr>\n",
       "    <tr>\n",
       "      <th>356024</th>\n",
       "      <td>9977471758307</td>\n",
       "      <td>http://world-en.openfoodfacts.org/product/9977...</td>\n",
       "      <td>openfoodfacts-contributors</td>\n",
       "      <td>1497018549</td>\n",
       "      <td>2017-06-09T14:29:09Z</td>\n",
       "      <td>1500730305</td>\n",
       "      <td>2017-07-22T13:31:45Z</td>\n",
       "      <td>Biscottes bio</td>\n",
       "      <td>NaN</td>\n",
       "      <td>300g</td>\n",
       "      <td>...</td>\n",
       "      <td>NaN</td>\n",
       "      <td>NaN</td>\n",
       "      <td>NaN</td>\n",
       "      <td>NaN</td>\n",
       "      <td>NaN</td>\n",
       "      <td>NaN</td>\n",
       "      <td>NaN</td>\n",
       "      <td>NaN</td>\n",
       "      <td>NaN</td>\n",
       "      <td>NaN</td>\n",
       "    </tr>\n",
       "    <tr>\n",
       "      <th>356025</th>\n",
       "      <td>9980282863788</td>\n",
       "      <td>http://world-en.openfoodfacts.org/product/9980...</td>\n",
       "      <td>openfoodfacts-contributors</td>\n",
       "      <td>1492340089</td>\n",
       "      <td>2017-04-16T10:54:49Z</td>\n",
       "      <td>1492340089</td>\n",
       "      <td>2017-04-16T10:54:49Z</td>\n",
       "      <td>Tomates aux Vermicelles</td>\n",
       "      <td>NaN</td>\n",
       "      <td>67g</td>\n",
       "      <td>...</td>\n",
       "      <td>NaN</td>\n",
       "      <td>NaN</td>\n",
       "      <td>NaN</td>\n",
       "      <td>NaN</td>\n",
       "      <td>NaN</td>\n",
       "      <td>NaN</td>\n",
       "      <td>NaN</td>\n",
       "      <td>NaN</td>\n",
       "      <td>NaN</td>\n",
       "      <td>NaN</td>\n",
       "    </tr>\n",
       "    <tr>\n",
       "      <th>356026</th>\n",
       "      <td>999990026839</td>\n",
       "      <td>http://world-en.openfoodfacts.org/product/9999...</td>\n",
       "      <td>usda-ndb-import</td>\n",
       "      <td>1489072709</td>\n",
       "      <td>2017-03-09T15:18:29Z</td>\n",
       "      <td>1491244499</td>\n",
       "      <td>2017-04-03T18:34:59Z</td>\n",
       "      <td>Sugar Free Drink Mix, Peach Tea</td>\n",
       "      <td>NaN</td>\n",
       "      <td>NaN</td>\n",
       "      <td>...</td>\n",
       "      <td>NaN</td>\n",
       "      <td>NaN</td>\n",
       "      <td>NaN</td>\n",
       "      <td>NaN</td>\n",
       "      <td>NaN</td>\n",
       "      <td>NaN</td>\n",
       "      <td>NaN</td>\n",
       "      <td>NaN</td>\n",
       "      <td>NaN</td>\n",
       "      <td>NaN</td>\n",
       "    </tr>\n",
       "  </tbody>\n",
       "</table>\n",
       "<p>356027 rows × 163 columns</p>\n",
       "</div>"
      ]
     },
     "metadata": {},
     "execution_count": 4
    }
   ],
   "metadata": {
    "collapsed": true
   }
  },
  {
   "cell_type": "markdown",
   "source": [
    "### Step 5. What is the number of observations in the dataset?"
   ],
   "metadata": {}
  },
  {
   "cell_type": "code",
   "execution_count": 5,
   "source": [
    "food.shape"
   ],
   "outputs": [
    {
     "output_type": "execute_result",
     "data": {
      "text/plain": [
       "(356027, 163)"
      ]
     },
     "metadata": {},
     "execution_count": 5
    }
   ],
   "metadata": {
    "collapsed": true
   }
  },
  {
   "cell_type": "markdown",
   "source": [
    "### Step 6. What is the number of columns in the dataset?"
   ],
   "metadata": {}
  },
  {
   "cell_type": "code",
   "execution_count": 6,
   "source": [
    "food.shape[1]"
   ],
   "outputs": [
    {
     "output_type": "execute_result",
     "data": {
      "text/plain": [
       "163"
      ]
     },
     "metadata": {},
     "execution_count": 6
    }
   ],
   "metadata": {
    "collapsed": true
   }
  },
  {
   "cell_type": "markdown",
   "source": [
    "### Step 7. Print the name of all the columns."
   ],
   "metadata": {}
  },
  {
   "cell_type": "code",
   "execution_count": 7,
   "source": [
    "food.columns"
   ],
   "outputs": [
    {
     "output_type": "execute_result",
     "data": {
      "text/plain": [
       "Index(['code', 'url', 'creator', 'created_t', 'created_datetime',\n",
       "       'last_modified_t', 'last_modified_datetime', 'product_name',\n",
       "       'generic_name', 'quantity',\n",
       "       ...\n",
       "       'fruits-vegetables-nuts_100g', 'fruits-vegetables-nuts-estimate_100g',\n",
       "       'collagen-meat-protein-ratio_100g', 'cocoa_100g', 'chlorophyl_100g',\n",
       "       'carbon-footprint_100g', 'nutrition-score-fr_100g',\n",
       "       'nutrition-score-uk_100g', 'glycemic-index_100g',\n",
       "       'water-hardness_100g'],\n",
       "      dtype='object', length=163)"
      ]
     },
     "metadata": {},
     "execution_count": 7
    }
   ],
   "metadata": {
    "collapsed": true
   }
  },
  {
   "cell_type": "markdown",
   "source": [
    "### Step 8. What is the name of 105th column?"
   ],
   "metadata": {}
  },
  {
   "cell_type": "code",
   "execution_count": 8,
   "source": [
    "food.columns[104]"
   ],
   "outputs": [
    {
     "output_type": "execute_result",
     "data": {
      "text/plain": [
       "'-glucose_100g'"
      ]
     },
     "metadata": {},
     "execution_count": 8
    }
   ],
   "metadata": {
    "collapsed": true
   }
  },
  {
   "cell_type": "markdown",
   "source": [
    "### Step 9. What is the type of the observations of the 105th column?"
   ],
   "metadata": {}
  },
  {
   "cell_type": "code",
   "execution_count": 17,
   "source": [
    "food[food.columns[104]].shape[0]"
   ],
   "outputs": [
    {
     "output_type": "execute_result",
     "data": {
      "text/plain": [
       "356027"
      ]
     },
     "metadata": {},
     "execution_count": 17
    }
   ],
   "metadata": {
    "collapsed": true
   }
  },
  {
   "cell_type": "markdown",
   "source": [
    "### Step 10. How is the dataset indexed?"
   ],
   "metadata": {}
  },
  {
   "cell_type": "code",
   "execution_count": 18,
   "source": [
    "food.index"
   ],
   "outputs": [
    {
     "output_type": "execute_result",
     "data": {
      "text/plain": [
       "RangeIndex(start=0, stop=356027, step=1)"
      ]
     },
     "metadata": {},
     "execution_count": 18
    }
   ],
   "metadata": {
    "collapsed": true
   }
  },
  {
   "cell_type": "markdown",
   "source": [
    "### Step 11. What is the product name of the 19th observation?"
   ],
   "metadata": {}
  },
  {
   "cell_type": "code",
   "execution_count": 24,
   "source": [
    "food.loc[18,:]"
   ],
   "outputs": [
    {
     "output_type": "execute_result",
     "data": {
      "text/plain": [
       "code                                                                   18197\n",
       "url                        http://world-en.openfoodfacts.org/product/0000...\n",
       "creator                                                      usda-ndb-import\n",
       "created_t                                                         1489055652\n",
       "created_datetime                                        2017-03-09T10:34:12Z\n",
       "                                                 ...                        \n",
       "carbon-footprint_100g                                                    NaN\n",
       "nutrition-score-fr_100g                                                  NaN\n",
       "nutrition-score-uk_100g                                                  NaN\n",
       "glycemic-index_100g                                                      NaN\n",
       "water-hardness_100g                                                      NaN\n",
       "Name: 18, Length: 163, dtype: object"
      ]
     },
     "metadata": {},
     "execution_count": 24
    }
   ],
   "metadata": {
    "collapsed": true
   }
  },
  {
   "cell_type": "code",
   "execution_count": null,
   "source": [],
   "outputs": [],
   "metadata": {}
  }
 ],
 "metadata": {
  "anaconda-cloud": {},
  "kernelspec": {
   "name": "python3",
   "display_name": "Python 3.9.6 64-bit"
  },
  "language_info": {
   "name": "python",
   "version": "3.9.6",
   "mimetype": "text/x-python",
   "codemirror_mode": {
    "name": "ipython",
    "version": 3
   },
   "pygments_lexer": "ipython3",
   "nbconvert_exporter": "python",
   "file_extension": ".py"
  },
  "interpreter": {
   "hash": "7812ea015bdcee6f23a998adcdd2ef97c151c0c241b7b7070987d9313e41299d"
  }
 },
 "nbformat": 4,
 "nbformat_minor": 2
}